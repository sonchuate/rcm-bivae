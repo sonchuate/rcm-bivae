{
 "cells": [
  {
   "cell_type": "code",
   "execution_count": 1,
   "metadata": {},
   "outputs": [
    {
     "name": "stdout",
     "output_type": "stream",
     "text": [
      "Collecting gdown\n",
      "  Downloading gdown-5.2.0-py3-none-any.whl.metadata (5.8 kB)\n",
      "Requirement already satisfied: beautifulsoup4 in c:\\users\\admin\\anaconda3\\lib\\site-packages (from gdown) (4.12.3)\n",
      "Requirement already satisfied: filelock in c:\\users\\admin\\anaconda3\\lib\\site-packages (from gdown) (3.13.1)\n",
      "Requirement already satisfied: requests[socks] in c:\\users\\admin\\anaconda3\\lib\\site-packages (from gdown) (2.32.2)\n",
      "Requirement already satisfied: tqdm in c:\\users\\admin\\anaconda3\\lib\\site-packages (from gdown) (4.66.4)\n",
      "Requirement already satisfied: soupsieve>1.2 in c:\\users\\admin\\anaconda3\\lib\\site-packages (from beautifulsoup4->gdown) (2.5)\n",
      "Requirement already satisfied: charset-normalizer<4,>=2 in c:\\users\\admin\\anaconda3\\lib\\site-packages (from requests[socks]->gdown) (2.0.4)\n",
      "Requirement already satisfied: idna<4,>=2.5 in c:\\users\\admin\\anaconda3\\lib\\site-packages (from requests[socks]->gdown) (3.7)\n",
      "Requirement already satisfied: urllib3<3,>=1.21.1 in c:\\users\\admin\\anaconda3\\lib\\site-packages (from requests[socks]->gdown) (2.2.2)\n",
      "Requirement already satisfied: certifi>=2017.4.17 in c:\\users\\admin\\anaconda3\\lib\\site-packages (from requests[socks]->gdown) (2024.7.4)\n",
      "Requirement already satisfied: PySocks!=1.5.7,>=1.5.6 in c:\\users\\admin\\anaconda3\\lib\\site-packages (from requests[socks]->gdown) (1.7.1)\n",
      "Requirement already satisfied: colorama in c:\\users\\admin\\anaconda3\\lib\\site-packages (from tqdm->gdown) (0.4.6)\n",
      "Downloading gdown-5.2.0-py3-none-any.whl (18 kB)\n",
      "Installing collected packages: gdown\n",
      "Successfully installed gdown-5.2.0\n"
     ]
    },
    {
     "name": "stderr",
     "output_type": "stream",
     "text": [
      "C:\\Users\\ADMIN\\anaconda3\\Lib\\site-packages\\gdown\\__main__.py:140: FutureWarning: Option `--id` was deprecated in version 4.3.1 and will be removed in 5.0. You don't need to pass it anymore to use a file ID.\n",
      "  warnings.warn(\n",
      "Downloading...\n",
      "From: https://drive.google.com/uc?id=1I_pcrQHs2coi8csWG7H9jIEHrVNr1zIw\n",
      "To: e:\\src code 2\\python 2\\rcm\\rcm-bivae\\training_set.csv\n",
      "\n",
      "  0%|          | 0.00/10.5M [00:00<?, ?B/s]\n",
      "  5%|▍         | 524k/10.5M [00:00<00:09, 1.00MB/s]\n",
      " 10%|▉         | 1.05M/10.5M [00:00<00:08, 1.15MB/s]\n",
      " 15%|█▍        | 1.57M/10.5M [00:01<00:06, 1.32MB/s]\n",
      " 20%|█▉        | 2.10M/10.5M [00:01<00:05, 1.42MB/s]\n",
      " 25%|██▍       | 2.62M/10.5M [00:01<00:05, 1.44MB/s]\n",
      " 30%|██▉       | 3.15M/10.5M [00:02<00:04, 1.72MB/s]\n",
      " 35%|███▍      | 3.67M/10.5M [00:02<00:03, 2.12MB/s]\n",
      " 40%|███▉      | 4.19M/10.5M [00:02<00:02, 2.43MB/s]\n",
      " 45%|████▍     | 4.72M/10.5M [00:02<00:02, 2.51MB/s]\n",
      " 50%|████▉     | 5.24M/10.5M [00:02<00:01, 2.85MB/s]\n",
      " 55%|█████▍    | 5.77M/10.5M [00:02<00:01, 3.31MB/s]\n",
      " 60%|█████▉    | 6.29M/10.5M [00:02<00:01, 3.50MB/s]\n",
      " 65%|██████▍   | 6.82M/10.5M [00:03<00:01, 2.71MB/s]\n",
      " 70%|██████▉   | 7.34M/10.5M [00:03<00:01, 2.62MB/s]\n",
      " 75%|███████▍  | 7.86M/10.5M [00:03<00:01, 2.62MB/s]\n",
      " 80%|███████▉  | 8.39M/10.5M [00:03<00:00, 2.98MB/s]\n",
      " 85%|████████▍ | 8.91M/10.5M [00:03<00:00, 3.41MB/s]\n",
      " 90%|████████▉ | 9.44M/10.5M [00:04<00:00, 3.56MB/s]\n",
      "100%|█████████▉| 10.5M/10.5M [00:04<00:00, 4.34MB/s]\n",
      "100%|██████████| 10.5M/10.5M [00:04<00:00, 2.50MB/s]\n",
      "C:\\Users\\ADMIN\\anaconda3\\Lib\\site-packages\\gdown\\__main__.py:140: FutureWarning: Option `--id` was deprecated in version 4.3.1 and will be removed in 5.0. You don't need to pass it anymore to use a file ID.\n",
      "  warnings.warn(\n",
      "Downloading...\n",
      "From: https://drive.google.com/uc?id=1IkDHE4rZalB0S7yaJrIkme2tE7PZ_Hcs\n",
      "To: e:\\src code 2\\python 2\\rcm\\rcm-bivae\\public_testset.csv\n",
      "\n",
      "  0%|          | 0.00/31.0M [00:00<?, ?B/s]\n",
      "  2%|▏         | 524k/31.0M [00:00<00:09, 3.27MB/s]\n",
      "  3%|▎         | 1.05M/31.0M [00:00<00:07, 3.89MB/s]\n",
      "  5%|▌         | 1.57M/31.0M [00:00<00:06, 4.29MB/s]\n",
      "  8%|▊         | 2.62M/31.0M [00:00<00:06, 4.38MB/s]\n",
      " 10%|█         | 3.15M/31.0M [00:00<00:06, 4.18MB/s]\n",
      " 12%|█▏        | 3.67M/31.0M [00:00<00:07, 3.90MB/s]\n",
      " 14%|█▎        | 4.19M/31.0M [00:01<00:06, 4.07MB/s]\n",
      " 15%|█▌        | 4.72M/31.0M [00:01<00:06, 3.95MB/s]\n",
      " 17%|█▋        | 5.24M/31.0M [00:01<00:06, 3.70MB/s]\n",
      " 19%|█▊        | 5.77M/31.0M [00:01<00:06, 3.97MB/s]\n",
      " 20%|██        | 6.29M/31.0M [00:01<00:07, 3.25MB/s]\n",
      " 22%|██▏       | 6.82M/31.0M [00:01<00:06, 3.57MB/s]\n",
      " 24%|██▎       | 7.34M/31.0M [00:01<00:06, 3.73MB/s]\n",
      " 25%|██▌       | 7.86M/31.0M [00:02<00:05, 4.00MB/s]\n",
      " 27%|██▋       | 8.39M/31.0M [00:02<00:05, 4.16MB/s]\n",
      " 29%|██▊       | 8.91M/31.0M [00:02<00:05, 4.03MB/s]\n",
      " 30%|███       | 9.44M/31.0M [00:02<00:05, 3.98MB/s]\n",
      " 32%|███▏      | 9.96M/31.0M [00:02<00:06, 3.50MB/s]\n",
      " 35%|███▌      | 11.0M/31.0M [00:02<00:04, 4.32MB/s]\n",
      " 37%|███▋      | 11.5M/31.0M [00:02<00:04, 4.32MB/s]\n",
      " 41%|████      | 12.6M/31.0M [00:03<00:03, 4.96MB/s]\n",
      " 44%|████▍     | 13.6M/31.0M [00:03<00:03, 5.21MB/s]\n",
      " 46%|████▌     | 14.2M/31.0M [00:03<00:03, 4.91MB/s]\n",
      " 49%|████▉     | 15.2M/31.0M [00:03<00:03, 5.13MB/s]\n",
      " 51%|█████     | 15.7M/31.0M [00:03<00:03, 4.58MB/s]\n",
      " 54%|█████▍    | 16.8M/31.0M [00:03<00:02, 4.84MB/s]\n",
      " 57%|█████▋    | 17.8M/31.0M [00:04<00:02, 5.12MB/s]\n",
      " 59%|█████▉    | 18.4M/31.0M [00:04<00:02, 5.12MB/s]\n",
      " 63%|██████▎   | 19.4M/31.0M [00:04<00:02, 5.13MB/s]\n",
      " 64%|██████▍   | 19.9M/31.0M [00:04<00:02, 4.89MB/s]\n",
      " 68%|██████▊   | 21.0M/31.0M [00:04<00:01, 5.21MB/s]\n",
      " 69%|██████▉   | 21.5M/31.0M [00:04<00:01, 4.91MB/s]\n",
      " 71%|███████   | 22.0M/31.0M [00:04<00:01, 4.98MB/s]\n",
      " 73%|███████▎  | 22.5M/31.0M [00:05<00:01, 5.00MB/s]\n",
      " 74%|███████▍  | 23.1M/31.0M [00:05<00:01, 4.54MB/s]\n",
      " 76%|███████▌  | 23.6M/31.0M [00:05<00:02, 3.35MB/s]\n",
      " 78%|███████▊  | 24.1M/31.0M [00:05<00:02, 3.37MB/s]\n",
      " 79%|███████▉  | 24.6M/31.0M [00:05<00:02, 2.75MB/s]\n",
      " 81%|████████  | 25.2M/31.0M [00:06<00:01, 3.00MB/s]\n",
      " 83%|████████▎ | 25.7M/31.0M [00:06<00:01, 3.27MB/s]\n",
      " 85%|████████▍ | 26.2M/31.0M [00:06<00:01, 3.54MB/s]\n",
      " 86%|████████▌ | 26.7M/31.0M [00:06<00:01, 3.39MB/s]\n",
      " 88%|████████▊ | 27.3M/31.0M [00:07<00:03, 1.00MB/s]\n",
      " 90%|████████▉ | 27.8M/31.0M [00:08<00:02, 1.16MB/s]\n",
      " 93%|█████████▎| 28.8M/31.0M [00:08<00:01, 1.92MB/s]\n",
      " 95%|█████████▍| 29.4M/31.0M [00:08<00:00, 2.15MB/s]\n",
      " 98%|█████████▊| 30.4M/31.0M [00:08<00:00, 2.88MB/s]\n",
      "100%|█████████▉| 30.9M/31.0M [00:08<00:00, 3.18MB/s]\n",
      "100%|██████████| 31.0M/31.0M [00:08<00:00, 3.56MB/s]\n"
     ]
    }
   ],
   "source": [
    "# !pip install gdown\n",
    "# !gdown --id 1I_pcrQHs2coi8csWG7H9jIEHrVNr1zIw\n",
    "# !gdown --id 1IkDHE4rZalB0S7yaJrIkme2tE7PZ_Hcs"
   ]
  },
  {
   "cell_type": "code",
   "execution_count": 2,
   "metadata": {},
   "outputs": [],
   "source": [
    "import os\n",
    "import sys\n",
    "import torch\n",
    "import pandas as pd\n",
    "from utils import predict_ranking\n",
    "from utils import Timer\n",
    "SEED = 42\n",
    "from dataset import Dataset\n"
   ]
  },
  {
   "cell_type": "code",
   "execution_count": 3,
   "metadata": {},
   "outputs": [],
   "source": [
    "from recom_bivaecf import BiVAECF"
   ]
  },
  {
   "cell_type": "code",
   "execution_count": 4,
   "metadata": {},
   "outputs": [],
   "source": [
    "# Select MovieLens data size: 100k, 1m, 10m, or 20m\n",
    "# MOVIELENS_DATA_SIZE = '100k'\n",
    "\n",
    "# top k items to recommend\n",
    "TOP_K = 1000\n",
    "\n",
    "# Model parameters\n",
    "LATENT_DIM = 50\n",
    "ENCODER_DIMS = [100]\n",
    "ACT_FUNC = \"tanh\"\n",
    "LIKELIHOOD = \"pois\"\n",
    "NUM_EPOCHS = 500\n",
    "BATCH_SIZE = 4056\n",
    "LEARNING_RATE = 0.001"
   ]
  },
  {
   "cell_type": "code",
   "execution_count": 5,
   "metadata": {},
   "outputs": [],
   "source": [
    "bivae = BiVAECF(\n",
    "    k=LATENT_DIM,\n",
    "    encoder_structure=ENCODER_DIMS,\n",
    "    act_fn=ACT_FUNC,\n",
    "    likelihood=LIKELIHOOD,\n",
    "    n_epochs=NUM_EPOCHS,\n",
    "    batch_size=BATCH_SIZE,\n",
    "    learning_rate=LEARNING_RATE,\n",
    "    seed=SEED,\n",
    "    use_gpu=torch.cuda.is_available(),\n",
    "    verbose=True\n",
    ")"
   ]
  },
  {
   "cell_type": "code",
   "execution_count": 6,
   "metadata": {},
   "outputs": [],
   "source": [
    "# data_training\tuserID\titemID\trating\n",
    "\n",
    "data_training = pd.DataFrame(\n",
    "    {\n",
    "        'userID': ['u'],\n",
    "        'itemID': ['i'],\n",
    "        'rating': [1],\n",
    "    }\n",
    ")\n",
    "\n",
    "train_set = Dataset.from_uir(data_training.itertuples(index=False), seed=SEED)\n"
   ]
  },
  {
   "cell_type": "code",
   "execution_count": 7,
   "metadata": {},
   "outputs": [
    {
     "data": {
      "application/vnd.jupyter.widget-view+json": {
       "model_id": "e8abe9fd223c48409ead3f811fd457a7",
       "version_major": 2,
       "version_minor": 0
      },
      "text/plain": [
       "  0%|          | 0/500 [00:00<?, ?it/s]"
      ]
     },
     "metadata": {},
     "output_type": "display_data"
    },
    {
     "name": "stdout",
     "output_type": "stream",
     "text": [
      "Took 7.2953 seconds for training.\n"
     ]
    }
   ],
   "source": [
    "with Timer() as t:\n",
    "    bivae.fit(train_set)\n",
    "print(\"Took {} seconds for training.\".format(t))"
   ]
  }
 ],
 "metadata": {
  "kernelspec": {
   "display_name": "Python 3",
   "language": "python",
   "name": "python3"
  },
  "language_info": {
   "codemirror_mode": {
    "name": "ipython",
    "version": 3
   },
   "file_extension": ".py",
   "mimetype": "text/x-python",
   "name": "python",
   "nbconvert_exporter": "python",
   "pygments_lexer": "ipython3",
   "version": "3.10.10"
  }
 },
 "nbformat": 4,
 "nbformat_minor": 2
}
